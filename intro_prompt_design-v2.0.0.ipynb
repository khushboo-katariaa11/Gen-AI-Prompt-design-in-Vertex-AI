{
 "cells": [
  {
   "cell_type": "code",
   "execution_count": null,
   "metadata": {
    "id": "ur8xi4C7S06n"
   },
   "outputs": [],
   "source": [
    "# Copyright 2025 Google LLC\n",
    "#\n",
    "# Licensed under the Apache License, Version 2.0 (the \"License\");\n",
    "# you may not use this file except in compliance with the License.\n",
    "# You may obtain a copy of the License at\n",
    "#\n",
    "#     https://www.apache.org/licenses/LICENSE-2.0\n",
    "#\n",
    "# Unless required by applicable law or agreed to in writing, software\n",
    "# distributed under the License is distributed on an \"AS IS\" BASIS,\n",
    "# WITHOUT WARRANTIES OR CONDITIONS OF ANY KIND, either express or implied.\n",
    "# See the License for the specific language governing permissions and\n",
    "# limitations under the License."
   ]
  },
  {
   "cell_type": "markdown",
   "metadata": {
    "id": "JAPoU8Sm5E6e"
   },
   "source": [
    "# Prompt Design - Best Practices\n",
    "\n",
    "<table align=\"left\">\n",
    "  <td style=\"text-align: center\">\n",
    "    <a href=\"https://colab.research.google.com/github/GoogleCloudPlatform/generative-ai/blob/main/gemini/prompts/intro_prompt_design.ipynb\">\n",
    "      <img width=\"32px\" src=\"https://www.gstatic.com/pantheon/images/bigquery/welcome_page/colab-logo.svg\" alt=\"Google Colaboratory logo\"><br> Open in Colab\n",
    "    </a>\n",
    "  </td>\n",
    "  <td style=\"text-align: center\">\n",
    "    <a href=\"https://console.cloud.google.com/vertex-ai/colab/import/https:%2F%2Fraw.githubusercontent.com%2FGoogleCloudPlatform%2Fgenerative-ai%2Fmain%2Fgemini%2Fprompts%2Fintro_prompt_design.ipynb\">\n",
    "      <img width=\"32px\" src=\"https://lh3.googleusercontent.com/JmcxdQi-qOpctIvWKgPtrzZdJJK-J3sWE1RsfjZNwshCFgE_9fULcNpuXYTilIR2hjwN\" alt=\"Google Cloud Colab Enterprise logo\"><br> Open in Colab Enterprise\n",
    "    </a>\n",
    "  </td>\n",
    "  <td style=\"text-align: center\">\n",
    "    <a href=\"https://console.cloud.google.com/vertex-ai/workbench/deploy-notebook?download_url=https://raw.githubusercontent.com/GoogleCloudPlatform/generative-ai/main/gemini/prompts/intro_prompt_design.ipynb\">\n",
    "      <img src=\"https://www.gstatic.com/images/branding/gcpiconscolors/vertexai/v1/32px.svg\" alt=\"Vertex AI logo\"><br> Open in Workbench\n",
    "    </a>\n",
    "  </td>\n",
    "  <td style=\"text-align: center\">\n",
    "    <a href=\"https://github.com/GoogleCloudPlatform/generative-ai/blob/main/gemini/prompts/intro_prompt_design.ipynb\">\n",
    "      <img width=\"32px\" src=\"https://www.svgrepo.com/download/217753/github.svg\" alt=\"GitHub logo\"><br> View on GitHub\n",
    "    </a>\n",
    "  </td>\n",
    "  <td style=\"text-align: center\">\n",
    "    <a href=\"https://goo.gle/4fWHlze\">\n",
    "      <img width=\"32px\" src=\"https://cdn.qwiklabs.com/assets/gcp_cloud-e3a77215f0b8bfa9b3f611c0d2208c7e8708ed31.svg\" alt=\"Google Cloud logo\"><br> Open in  Cloud Skills Boost\n",
    "    </a>\n",
    "  </td>\n",
    "</table>\n",
    "\n",
    "<div style=\"clear: both;\"></div>\n",
    "\n",
    "<b>Share to:</b>\n",
    "\n",
    "<a href=\"https://www.linkedin.com/sharing/share-offsite/?url=https%3A//github.com/GoogleCloudPlatform/generative-ai/blob/main/gemini/prompts/intro_prompt_design.ipynb\" target=\"_blank\">\n",
    "  <img width=\"20px\" src=\"https://upload.wikimedia.org/wikipedia/commons/8/81/LinkedIn_icon.svg\" alt=\"LinkedIn logo\">\n",
    "</a>\n",
    "<a href=\"https://bsky.app/intent/compose?text=https%3A//github.com/GoogleCloudPlatform/generative-ai/blob/main/gemini/prompts/intro_prompt_design.ipynb\" target=\"_blank\">\n",
    "  <img width=\"20px\" src=\"https://upload.wikimedia.org/wikipedia/commons/7/7a/Bluesky_Logo.svg\" alt=\"Bluesky logo\">\n",
    "</a>\n",
    "<a href=\"https://twitter.com/intent/tweet?url=https%3A//github.com/GoogleCloudPlatform/generative-ai/blob/main/gemini/prompts/intro_prompt_design.ipynb\" target=\"_blank\">\n",
    "  <img width=\"20px\" src=\"https://upload.wikimedia.org/wikipedia/commons/5/5a/X_icon_2.svg\" alt=\"X logo\">\n",
    "</a>\n",
    "<a href=\"https://reddit.com/submit?url=https%3A//github.com/GoogleCloudPlatform/generative-ai/blob/main/gemini/prompts/intro_prompt_design.ipynb\" target=\"_blank\">\n",
    "  <img width=\"20px\" src=\"https://redditinc.com/hubfs/Reddit%20Inc/Brand/Reddit_Logo.png\" alt=\"Reddit logo\">\n",
    "</a>\n",
    "<a href=\"https://www.facebook.com/sharer/sharer.php?u=https%3A//github.com/GoogleCloudPlatform/generative-ai/blob/main/gemini/prompts/intro_prompt_design.ipynb\" target=\"_blank\">\n",
    "  <img width=\"20px\" src=\"https://upload.wikimedia.org/wikipedia/commons/5/51/Facebook_f_logo_%282019%29.svg\" alt=\"Facebook logo\">\n",
    "</a>"
   ]
  },
  {
   "cell_type": "markdown",
   "metadata": {
    "id": "84f0f73a0f76"
   },
   "source": [
    "| Authors |\n",
    "| --- |\n",
    "| [Polong Lin](https://github.com/polong-lin) |\n",
    "| [Karl Weinmeister](https://github.com/kweinmeister) |"
   ]
  },
  {
   "cell_type": "markdown",
   "metadata": {
    "id": "tvgnzT1CKxrO"
   },
   "source": [
    "## Overview\n",
    "\n",
    "This notebook covers the essentials of prompt engineering, including some best practices.\n",
    "\n",
    "Learn more about prompt design in the [official documentation](https://cloud.google.com/vertex-ai/docs/generative-ai/text/text-overview).\n",
    "\n",
    "In this notebook, you learn best practices around prompt engineering -- how to design prompts to improve the quality of your responses.\n",
    "\n",
    "This notebook covers the following best practices for prompt engineering:\n",
    "\n",
    "- Be concise\n",
    "- Be specific and well-defined\n",
    "- Ask one task at a time\n",
    "- Turn generative tasks into classification tasks\n",
    "- Improve response quality by including examples"
   ]
  },
  {
   "cell_type": "markdown",
   "metadata": {
    "id": "61RBz8LLbxCR"
   },
   "source": [
    "## Getting Started"
   ]
  },
  {
   "cell_type": "markdown",
   "metadata": {
    "id": "No17Cw5hgx12"
   },
   "source": [
    "### Install Google Gen AI SDK\n"
   ]
  },
  {
   "cell_type": "code",
   "execution_count": 21,
   "metadata": {
    "id": "tFy3H3aPgx12",
    "tags": []
   },
   "outputs": [
    {
     "name": "stdout",
     "output_type": "stream",
     "text": [
      "Note: you may need to restart the kernel to use updated packages.\n"
     ]
    }
   ],
   "source": [
    "%pip install --upgrade --quiet google-genai"
   ]
  },
  {
   "cell_type": "markdown",
   "metadata": {
    "id": "06489bd14f16"
   },
   "source": [
    "### Import libraries\n"
   ]
  },
  {
   "cell_type": "code",
   "execution_count": 22,
   "metadata": {
    "id": "154137022fb6",
    "tags": []
   },
   "outputs": [],
   "source": [
    "from IPython.display import Markdown, display\n",
    "from google import genai\n",
    "from google.genai.types import GenerateContentConfig"
   ]
  },
  {
   "cell_type": "markdown",
   "metadata": {
    "id": "DF4l8DTdWgPY"
   },
   "source": [
    "### Set Google Cloud project information and create client\n",
    "\n",
    "To get started using Vertex AI, you must have an existing Google Cloud project and [enable the Vertex AI API](https://console.cloud.google.com/flows/enableapi?apiid=aiplatform.googleapis.com).\n",
    "\n",
    "Learn more about [setting up a project and a development environment](https://cloud.google.com/vertex-ai/docs/start/cloud-environment)."
   ]
  },
  {
   "cell_type": "code",
   "execution_count": 33,
   "metadata": {
    "id": "Nqwi-5ufWp_B",
    "tags": []
   },
   "outputs": [],
   "source": [
    "import os\n",
    "\n",
    "PROJECT_ID = \"qwiklabs-gcp-03-3e3cb8f2fb46\"  # @param {type: \"string\", placeholder: \"[your-project-id]\", isTemplate: true}\n",
    "if not PROJECT_ID or PROJECT_ID == \"qwiklabs-gcp-03-3e3cb8f2fb46\":\n",
    "    PROJECT_ID = str(os.environ.get(\"GOOGLE_CLOUD_PROJECT\"))\n",
    "\n",
    "LOCATION = \"europe-west4\""
   ]
  },
  {
   "cell_type": "code",
   "execution_count": 34,
   "metadata": {
    "id": "QqRWdPGmW3NJ",
    "tags": []
   },
   "outputs": [],
   "source": [
    "client = genai.Client(vertexai=True, project=PROJECT_ID, location=LOCATION)"
   ]
  },
  {
   "cell_type": "markdown",
   "metadata": {
    "id": "OnFPpCRtXRl4"
   },
   "source": [
    "### Load model\n",
    "\n",
    "Learn more about all [Gemini models on Vertex AI](https://cloud.google.com/vertex-ai/generative-ai/docs/learn/models#gemini-models)."
   ]
  },
  {
   "cell_type": "code",
   "execution_count": 35,
   "metadata": {
    "id": "IQYu_9SvXQah",
    "tags": []
   },
   "outputs": [],
   "source": [
    "MODEL_ID = \"gemini-2.5-flash\"  # @param {type: \"string\"}\n",
    "\n"
   ]
  },
  {
   "cell_type": "markdown",
   "metadata": {
    "id": "cVOtUNJ5X0PY"
   },
   "source": [
    "## Prompt engineering best practices"
   ]
  },
  {
   "cell_type": "markdown",
   "metadata": {
    "id": "uv_e0fEPX60q"
   },
   "source": [
    "Prompt engineering is all about how to design your prompts so that the response is what you were indeed hoping to see.\n",
    "\n",
    "The idea of using \"unfancy\" prompts is to minimize the noise in your prompt to reduce the possibility of the LLM misinterpreting the intent of the prompt. Below are a few guidelines on how to engineer \"unfancy\" prompts.\n",
    "\n",
    "In this section, you'll cover the following best practices when engineering prompts:\n",
    "\n",
    "* Be concise\n",
    "* Be specific, and well-defined\n",
    "* Ask one task at a time\n",
    "* Improve response quality by including examples\n",
    "* Turn generative tasks to classification tasks to improve safety"
   ]
  },
  {
   "cell_type": "markdown",
   "metadata": {
    "id": "0pY4XX0OX9_Y"
   },
   "source": [
    "### Be concise"
   ]
  },
  {
   "cell_type": "markdown",
   "metadata": {
    "id": "xlRpxyxGYA1K"
   },
   "source": [
    "🛑 Not recommended. The prompt below is unnecessarily verbose."
   ]
  },
  {
   "cell_type": "code",
   "execution_count": 36,
   "metadata": {
    "id": "YKV4G-CfXdbi",
    "tags": []
   },
   "outputs": [
    {
     "data": {
      "text/markdown": [
       "That's a lovely niche! Dried flowers evoke a sense of timelessness, earthy beauty, and enduring charm. Here are some name ideas, playing on different aspects:\n",
       "\n",
       "**I. Evoking Longevity & Timelessness:**\n",
       "\n",
       "1.  **Everlast Petals**\n",
       "2.  **The Enduring Bloom**\n",
       "3.  **Timeless Stems**\n",
       "4.  **Perennial Petals**\n",
       "5.  **Forever Flora**\n",
       "6.  **The Lasting Bloom**\n",
       "7.  **Heirloom Hues** (suggests vintage beauty)\n",
       "8.  **The Un-Wilted** (playful, direct)\n",
       "9.  **Echoing Blooms**\n",
       "10. **Chronicle Blooms**\n",
       "\n",
       "**II. Emphasizing Preservation & Muted Beauty:**\n",
       "\n",
       "11. **Preserved Petals**\n",
       "12. **The Muted Bloom**\n",
       "13. **Terra Flora** (earthy flowers)\n",
       "14. **Still Bloom** (suggests quiet beauty)\n",
       "15. **The Cured Petal**\n",
       "16. **Dust & Petal** (whimsical, rustic)\n",
       "17. **Whisper & Bloom** (gentle, delicate)\n",
       "18. **Faded Florals** (if you lean into the soft, vintage look)\n",
       "19. **Botanical Archives**\n",
       "20. **Root & Petal**\n",
       "\n",
       "**III. Poetic & Evocative:**\n",
       "\n",
       "21. **Solstice Blooms** (representing the peak and end of growth)\n",
       "22. **The Quiet Garden**\n",
       "23. **Dreamdust Florals**\n",
       "24. **Aura Bloom**\n",
       "25. **Petal & Spore** (more rustic/natural)\n",
       "26. **The Bloom & Bone** (a bit edgy, but suggests structure and lasting nature)\n",
       "27. **Almanac Florals** (referencing old wisdom and seasonal cycles)\n",
       "28. **Ardor Bloom** (passion that lasts)\n",
       "\n",
       "**IV. Direct & Clear (but still appealing):**\n",
       "\n",
       "29. **The Dried Bloom Co.**\n",
       "30. **Dried & True Florals**\n",
       "31. **Everlasting Bouquets**\n",
       "32. **The Preserved Florist**\n",
       "33. **Naturally Dried**\n",
       "\n",
       "**Tips for Choosing:**\n",
       "\n",
       "*   **Say it Out Loud:** Does it roll off the tongue? Is it easy to remember and pronounce?\n",
       "*   **Check Availability:** Is the name available as a business name, domain name, and social media handle?\n",
       "*   **Target Audience:** Who are you trying to attract? A rustic, earthy name for a bohemian client, or something more elegant for a high-end customer?\n",
       "*   **Brand Vibe:** What feeling do you want your shop to convey? Calm, artistic, nostalgic, sophisticated?\n",
       "*   **Future Proofing:** Does the name allow for potential expansion into other dried botanical products (like pressed flowers, wreaths, potpourri)?\n",
       "\n",
       "Good luck with your beautiful shop!"
      ],
      "text/plain": [
       "<IPython.core.display.Markdown object>"
      ]
     },
     "metadata": {},
     "output_type": "display_data"
    }
   ],
   "source": [
    "prompt = \"What do you think could be a good name for a flower shop that specializes in selling bouquets of dried flowers more than fresh flowers?\"\n",
    "\n",
    "response = client.models.generate_content(model=MODEL_ID, contents=prompt)\n",
    "display(Markdown(response.text))"
   ]
  },
  {
   "cell_type": "markdown",
   "metadata": {
    "id": "YrJexRHJYnmC"
   },
   "source": [
    "✅ Recommended. The prompt below is to the point and concise."
   ]
  },
  {
   "cell_type": "code",
   "execution_count": 37,
   "metadata": {
    "id": "VHetn9lCYrXB",
    "tags": []
   },
   "outputs": [
    {
     "data": {
      "text/markdown": [
       "Here are some name suggestions for a flower shop specializing in dried flower bouquets, categorized by their vibe:\n",
       "\n",
       "**Evocative & Poetic:**\n",
       "1.  **Whispering Petals:** Suggests delicate, gentle beauty and the quiet charm of dried flowers.\n",
       "2.  **Ember & Bloom:** Evokes warm, muted tones and lasting beauty.\n",
       "3.  **Sepia Blooms:** Calls to mind vintage photographs and timeless elegance.\n",
       "4.  **The Everlasting Garden:** Highlights the enduring nature of dried flowers.\n",
       "5.  **Golden Hour Blooms:** Captures the warm, nostalgic feeling.\n",
       "6.  **Dusty Rose & Thyme:** A classic, vintage-inspired pairing.\n",
       "7.  **Terra Flora:** (Latin for \"earth flower\") Sounds grounded and natural.\n",
       "8.  **Sun-Kissed Stems:** Suggests a natural drying process and warmth.\n",
       "\n",
       "**Elegant & Sophisticated:**\n",
       "9.  **Fleur Séchée:** (French for \"dried flower\") Chic and refined.\n",
       "10. **The Curated Bloom:** Implies carefully selected and artfully arranged pieces.\n",
       "11. **Botanica Preserved:** Simple, clear, and elegant.\n",
       "12. **The Bloom Archive:** Suggests a collection of enduring beauty.\n",
       "13. **Petal & Spore:** A bit more unique, nodding to natural elements.\n",
       "14. **Heirloom Blooms:** Conveys a sense of history and timelessness.\n",
       "\n",
       "**Direct & Descriptive (but still appealing):**\n",
       "15. **Dried & True Botanicals:** Play on \"tried and true,\" emphasizing reliability and natural elements.\n",
       "16. **Harvest Bloom Co.** Evokes the idea of gathered, natural beauty.\n",
       "17. **The Preserved Petal:** Clear and descriptive.\n",
       "18. **Everlasting Blooms:** Straightforward and positive.\n",
       "19. **Timeless Stems:** Focuses on longevity.\n",
       "\n",
       "**Whimsical & Charming:**\n",
       "20. **The Bloom & Thyme:** A playful twist on \"bloom and time.\"\n",
       "21. **Petal & Twine:** Suggests natural, rustic charm.\n",
       "22. **The Rustic Bloom:** Simple and warm.\n",
       "23. **The Tumbleweed & Twig:** Evokes a free-spirited, natural aesthetic.\n",
       "\n",
       "**Modern & Minimalist:**\n",
       "24. **Everbloom:** Short, memorable, and modern.\n",
       "25. **Bloom Dried:** Simple and to the point.\n",
       "26. **The Dried Co.**\n",
       "27. **Terra Bloom**\n",
       "\n",
       "**Tips for Choosing:**\n",
       "\n",
       "*   **Say it Out Loud:** Does it roll off the tongue? Is it easy to remember and pronounce?\n",
       "*   **Check Availability:** Is the name available as a domain name, social media handle, and business registration in your area?\n",
       "*   **Reflect Your Brand:** Does the name convey the specific style and aesthetic you want for your shop (e.g., rustic, luxurious, bohemian)?\n",
       "*   **Future Growth:** Does the name allow for potential expansion of your product line in the future?\n",
       "\n",
       "Good luck with your new venture!"
      ],
      "text/plain": [
       "<IPython.core.display.Markdown object>"
      ]
     },
     "metadata": {},
     "output_type": "display_data"
    }
   ],
   "source": [
    "prompt = \"Suggest a name for a flower shop that sells bouquets of dried flowers\"\n",
    "\n",
    "response = client.models.generate_content(model=MODEL_ID, contents=prompt)\n",
    "display(Markdown(response.text))"
   ]
  },
  {
   "cell_type": "markdown",
   "metadata": {
    "id": "eXTAvdOHY0OC"
   },
   "source": [
    "### Be specific, and well-defined"
   ]
  },
  {
   "cell_type": "markdown",
   "metadata": {
    "id": "FTH4GEIgY1dp"
   },
   "source": [
    "Suppose that you want to brainstorm creative ways to describe Earth."
   ]
  },
  {
   "cell_type": "markdown",
   "metadata": {
    "id": "o5BmXBiGY4KC"
   },
   "source": [
    "🛑 The prompt below might be a bit too generic (which is certainly OK if you'd like to ask a generic question!)"
   ]
  },
  {
   "cell_type": "code",
   "execution_count": 38,
   "metadata": {
    "id": "eHBaMvv7Y6mR",
    "tags": []
   },
   "outputs": [
    {
     "data": {
      "text/markdown": [
       "Earth, our home, is a truly remarkable and unique planet in our solar system. Here's a comprehensive overview:\n",
       "\n",
       "## The Basics\n",
       "\n",
       "*   **Third Planet from the Sun:** Earth orbits the Sun at an average distance of about 150 million kilometers (93 million miles).\n",
       "*   **Only Known Abode of Life:** It's the only celestial body we know of that harbors complex, diverse life. This is often attributed to its \"Goldilocks Zone\" position – not too hot, not too cold – allowing for liquid water.\n",
       "*   **Fifth Largest Planet:** Among the eight planets in our solar system, Earth is the fifth largest by diameter.\n",
       "*   **\"The Blue Marble\":** From space, Earth appears predominantly blue due to its abundant liquid water, covering about 71% of its surface.\n",
       "\n",
       "## Physical Characteristics\n",
       "\n",
       "1.  **Shape:** Earth is an **oblate spheroid**, meaning it's not a perfect sphere but slightly flattened at the poles and bulging at the equator due to its rotation.\n",
       "2.  **Internal Structure:** Earth is composed of several layers:\n",
       "    *   **Crust:** The thin, outermost solid layer (oceanic and continental).\n",
       "    *   **Mantle:** A thick, semi-solid layer of silicate rock that slowly deforms and flows over geological timescales.\n",
       "    *   **Outer Core:** A liquid layer primarily of iron and nickel, responsible for generating Earth's magnetic field.\n",
       "    *   **Inner Core:** A solid ball of iron and nickel, under immense pressure and extremely hot.\n",
       "3.  **Atmosphere:** A protective blanket of gases, essential for life and weather. It's roughly 78% nitrogen, 21% oxygen, and small amounts of argon, carbon dioxide, and other gases. The atmosphere filters harmful solar radiation (like UV light) and helps regulate global temperatures through the greenhouse effect.\n",
       "4.  **Water:** Earth is often called the \"Water Planet.\" Its vast oceans, ice caps, rivers, lakes, and groundwater are crucial for climate regulation, weather patterns, and supporting life.\n",
       "5.  **Magnetic Field (Magnetosphere):** Generated by the liquid outer core, this field acts like a shield, deflecting harmful charged particles from the Sun (solar wind) and cosmic rays, protecting life and the atmosphere.\n",
       "\n",
       "## Dynamic Planet\n",
       "\n",
       "1.  **Plate Tectonics:** The Earth's crust is broken into large pieces called tectonic plates, which are constantly moving over the semi-fluid mantle. This movement causes:\n",
       "    *   **Earthquakes:** Shaking of the ground.\n",
       "    *   **Volcanoes:** Eruptions of molten rock.\n",
       "    *   **Mountain Building:** Collision of plates.\n",
       "    *   **Continental Drift:** The slow movement and reshaping of continents over millions of years.\n",
       "2.  **Weather and Climate:** Driven by solar energy, the atmosphere, and oceans, Earth experiences diverse weather phenomena (storms, winds, precipitation) and distinct climate zones (tropical, temperate, polar).\n",
       "3.  **Seasons:** Earth's axis is tilted approximately 23.5 degrees relative to its orbit around the Sun. This tilt causes different parts of the planet to receive more direct sunlight at different times of the year, leading to the change of seasons.\n",
       "4.  **Hydrological Cycle:** The continuous movement of water on, above, and below the surface of the Earth, involving evaporation, condensation, precipitation, and runoff.\n",
       "\n",
       "## The Miracle of Life\n",
       "\n",
       "*   **Biodiversity:** Earth teems with an incredible variety of life, from microscopic bacteria to giant whales, inhabiting diverse ecosystems from deep oceans to high mountains.\n",
       "*   **Interconnected Ecosystems:** All life forms are part of complex, interdependent webs, recycling nutrients and energy.\n",
       "*   **Evolution:** Life on Earth has evolved over billions of years, adapting to changing environments and leading to the vast array of species we see today.\n",
       "*   **Carbon Cycle:** Life plays a crucial role in regulating Earth's climate through the carbon cycle, where carbon is exchanged among the atmosphere, oceans, land, and living organisms.\n",
       "\n",
       "## Human Connection and Challenges\n",
       "\n",
       "*   **Our Home:** Earth provides all the resources necessary for human civilization: air, water, food, minerals, and energy.\n",
       "*   **Stewardship:** As the dominant species, humans have a profound impact on the planet. This includes:\n",
       "    *   **Climate Change:** Primarily driven by human emissions of greenhouse gases.\n",
       "    *   **Pollution:** Air, water, and land pollution impacting ecosystems and human health.\n",
       "    *   **Deforestation and Habitat Loss:** Threatening biodiversity.\n",
       "    *   **Resource Depletion:** Over-extraction of non-renewable resources.\n",
       "\n",
       "Understanding Earth's intricate systems and processes is vital for addressing these challenges and ensuring a sustainable future for both humanity and the planet.\n",
       "\n",
       "In essence, Earth is a dynamic, living, and incredibly complex system, a fragile blue oasis in the vastness of space, making it a subject of endless fascination and scientific study."
      ],
      "text/plain": [
       "<IPython.core.display.Markdown object>"
      ]
     },
     "metadata": {},
     "output_type": "display_data"
    }
   ],
   "source": [
    "prompt = \"Tell me about Earth\"\n",
    "\n",
    "response = client.models.generate_content(model=MODEL_ID, contents=prompt)\n",
    "display(Markdown(response.text))"
   ]
  },
  {
   "cell_type": "markdown",
   "metadata": {
    "id": "4iyvEbteZnFL"
   },
   "source": [
    "✅ Recommended. The prompt below is specific and well-defined."
   ]
  },
  {
   "cell_type": "code",
   "execution_count": 39,
   "metadata": {
    "id": "JQ80z8urZnne",
    "tags": []
   },
   "outputs": [
    {
     "data": {
      "text/markdown": [
       "Earth stands out in our solar system, and as far as we know, in the universe, for a remarkable combination of factors that make it uniquely hospitable to life. Here's a list of ways Earth is unique compared to other planets:\n",
       "\n",
       "1.  **Abundant Stable Liquid Water on its Surface:** While water exists as ice or vapor on other bodies, Earth is the only known planet to have vast quantities of stable liquid water on its surface, forming oceans, lakes, and rivers. This is crucial as water is the universal solvent for life's chemical processes.\n",
       "\n",
       "2.  **A Uniquely Compositioned, Stable, and Breathable Atmosphere:** Earth's atmosphere is about 21% oxygen and 78% nitrogen – a composition perfectly suited for complex life as we know it. Other planets have atmospheres that are too thin, too thick, or composed of toxic gases like carbon dioxide (Venus, Mars), hydrogen/helium (gas giants), or methane/ammonia (ice giants). Earth's atmosphere also includes the ozone layer, protecting life from harmful UV radiation.\n",
       "\n",
       "3.  **Active Plate Tectonics:** Earth is the only known planet with active, large-scale plate tectonics. This continuous recycling of the crust drives geological activity, regulates the planet's temperature over geological timescales by participating in the carbon cycle (volcanoes release CO2, weathering removes it), creates diverse habitats, and rejuvenates the surface.\n",
       "\n",
       "4.  **A Robust Global Magnetic Field (Magnetosphere):** Generated by the convection of molten iron in its outer core, Earth's strong magnetic field shields the planet from harmful solar wind particles and cosmic rays. Without it, the solar wind could strip away the atmosphere and make the surface uninhabitable.\n",
       "\n",
       "5.  **Optimal Orbital Distance from the Sun (The \"Goldilocks Zone\"):** Earth is positioned at just the right distance from the Sun – not too hot, not too cold – allowing liquid water to persist on its surface. This is often referred to as the \"habitable zone\" or \"Goldilocks Zone.\"\n",
       "\n",
       "6.  **A Relatively Large and Stabilizing Moon:** Earth has an unusually large moon relative to its size. This Moon plays a crucial role by:\n",
       "    *   **Stabilizing Earth's axial tilt:** Preventing extreme wobbles that would cause chaotic climate shifts.\n",
       "    *   **Creating tides:** Which may have played a role in the emergence of life from the oceans.\n",
       "\n",
       "7.  **Presence of a Biosphere and Interconnected Ecosystems:** Earth is the only planet known to host life, ranging from microbes to complex, multicellular organisms. More profoundly, this life forms intricate, self-regulating ecosystems that actively shape the planet's geology, atmosphere, and climate (e.g., oxygenation of the atmosphere, formation of sedimentary rocks).\n",
       "\n",
       "8.  **Long-Term Geological and Climatic Stability:** While not entirely static, Earth has maintained conditions suitable for life for billions of years, allowing for the slow process of evolution and diversification to occur. This stability is a result of the interplay of all the unique factors listed above.\n",
       "\n",
       "These factors combine to create a uniquely dynamic, protected, and life-supporting environment that sets Earth apart from any other planet we currently know."
      ],
      "text/plain": [
       "<IPython.core.display.Markdown object>"
      ]
     },
     "metadata": {},
     "output_type": "display_data"
    }
   ],
   "source": [
    "prompt = \"Generate a list of ways that makes Earth unique compared to other planets\"\n",
    "\n",
    "response = client.models.generate_content(model=MODEL_ID, contents=prompt)\n",
    "display(Markdown(response.text))"
   ]
  },
  {
   "cell_type": "markdown",
   "metadata": {
    "id": "R5kmfZYHZsJ7"
   },
   "source": [
    "### Ask one task at a time"
   ]
  },
  {
   "cell_type": "markdown",
   "metadata": {
    "id": "rsAezxeYZuUN"
   },
   "source": [
    "🛑 Not recommended. The prompt below has two parts to the question that could be asked separately."
   ]
  },
  {
   "cell_type": "code",
   "execution_count": 40,
   "metadata": {
    "id": "ElywPXpuZtWf",
    "tags": []
   },
   "outputs": [
    {
     "data": {
      "text/markdown": [
       "Let's break down both of these questions!\n",
       "\n",
       "---\n",
       "\n",
       "### The Best Method of Boiling Water\n",
       "\n",
       "The \"best\" method depends on your priorities (speed, efficiency, convenience, capacity). However, for most home users, an **electric kettle** is generally considered the best all-around method for boiling typical quantities of water (1-2 liters).\n",
       "\n",
       "**Why an Electric Kettle is often \"Best\":**\n",
       "\n",
       "1.  **Speed:** Electric kettles are incredibly fast. The heating element is immersed directly in the water, transferring heat very efficiently. For a liter of water, it can boil in 2-4 minutes.\n",
       "2.  **Energy Efficiency:** They are highly energy-efficient compared to boiling water on a stovetop. Most of the heat goes directly into the water, with minimal loss to the surrounding air or cookware.\n",
       "3.  **Convenience & Safety:** They are easy to use (fill, switch on, wait). Most have automatic shut-off when the water boils, preventing over-boiling and dry-boiling, which is a significant safety advantage. They are also often cordless for easy pouring.\n",
       "4.  **Portability:** You only need an electrical outlet.\n",
       "\n",
       "**Other Methods & Their Considerations:**\n",
       "\n",
       "*   **Stovetop (Pot):**\n",
       "    *   **Gas:** Very fast, especially on a high-BTU burner. Good for large quantities. Less energy efficient than electric kettle for small amounts due to heat loss around the pot.\n",
       "    *   **Electric Coil/Ceramic:** Slower than gas or electric kettle. Less efficient.\n",
       "    *   **Induction:** Extremely fast and very energy-efficient because it heats the pot directly through magnetism. If you have an induction hob and an induction-compatible pot, this can rival or even surpass an electric kettle for speed and efficiency.\n",
       "    *   **Pros:** Can boil any quantity, no special appliance needed beyond a pot.\n",
       "    *   **Cons:** Requires monitoring, heat loss, can be slower for small amounts.\n",
       "\n",
       "*   **Microwave:**\n",
       "    *   **Pros:** Convenient for very small amounts (e.g., a single cup for tea).\n",
       "    *   **Cons:** Not efficient for boiling, can take a long time for larger quantities, and there's a risk of \"superheating\" water (where it heats above its boiling point without bubbling, then suddenly boils explosively when disturbed – a safety hazard). It also doesn't create a rolling boil like other methods.\n",
       "\n",
       "*   **Immersion Heater:**\n",
       "    *   **Pros:** Very portable and fast, good for travel.\n",
       "    *   **Cons:** Safety concerns (must be submerged properly, easy to forget).\n",
       "\n",
       "**In Summary:** For everyday use in a typical home, an **electric kettle** offers the best balance of speed, efficiency, and convenience. If you need to boil very large quantities, a stovetop pot (especially on induction or high-BTU gas) is preferable.\n",
       "\n",
       "---\n",
       "\n",
       "### Why the Sky is Blue\n",
       "\n",
       "The reason the sky appears blue is due to a phenomenon called **Rayleigh Scattering**.\n",
       "\n",
       "Here's a breakdown:\n",
       "\n",
       "1.  **Sunlight is White Light:** The light from the sun appears white to us, but it's actually made up of all the colors of the rainbow (red, orange, yellow, green, blue, indigo, violet). Each color has a different wavelength – red has the longest wavelength, and violet/blue have the shortest.\n",
       "\n",
       "2.  **Earth's Atmosphere:** Our atmosphere is composed of tiny gas molecules (mostly nitrogen and oxygen) and some even tinier dust particles.\n",
       "\n",
       "3.  **Scattering:** When sunlight enters the Earth's atmosphere, it collides with these gas molecules and particles. This causes the light to be scattered in all directions.\n",
       "\n",
       "4.  **Wavelength Matters (Rayleigh Scattering):** The key is that **shorter wavelengths of light are scattered much more effectively than longer wavelengths** by particles that are much smaller than the wavelength of light itself (which is the case for atmospheric molecules and visible light).\n",
       "    *   Blue and violet light have shorter wavelengths.\n",
       "    *   Red and orange light have longer wavelengths.\n",
       "\n",
       "5.  **Why Blue (and not Violet)?**\n",
       "    *   Because blue and violet light are scattered most efficiently, they are dispersed across the entire sky. No matter where you look, you're seeing this scattered blue light.\n",
       "    *   While violet light is scattered even more than blue, our eyes are **more sensitive to blue light** than violet light.\n",
       "    *   Also, the sun emits **less violet light** than blue light.\n",
       "    *   So, the *combination* of these factors results in us perceiving the sky as blue.\n",
       "\n",
       "6.  **What Happens to Other Colors?**\n",
       "    *   Longer wavelengths like red, orange, and yellow are not scattered as much. They tend to travel more directly through the atmosphere. This is why you see the full spectrum of colors when the sun is low on the horizon (sunrise/sunset).\n",
       "\n",
       "**In essence:** During the day, as sunlight passes through the atmosphere, the blue and violet components are scattered far and wide, making the sky appear blue from every angle. The other colors pass through more directly.\n",
       "\n",
       "**Bonus: Why Sunrises/Sunsets are Red/Orange:**\n",
       "When the sun is low on the horizon, its light has to travel through *much more* of the Earth's atmosphere to reach your eyes. This means even more blue and violet light are scattered away, leaving primarily the unscattered longer wavelengths (red, orange, and yellow) to reach your eyes, creating those beautiful warm colors."
      ],
      "text/plain": [
       "<IPython.core.display.Markdown object>"
      ]
     },
     "metadata": {},
     "output_type": "display_data"
    }
   ],
   "source": [
    "prompt = \"What's the best method of boiling water and why is the sky blue?\"\n",
    "\n",
    "response = client.models.generate_content(model=MODEL_ID, contents=prompt)\n",
    "display(Markdown(response.text))"
   ]
  },
  {
   "cell_type": "markdown",
   "metadata": {
    "id": "ejzahazBZ8vk"
   },
   "source": [
    "✅ Recommended. The prompts below asks one task a time."
   ]
  },
  {
   "cell_type": "code",
   "execution_count": 41,
   "metadata": {
    "id": "C5ckp2F0Z_Ba",
    "tags": []
   },
   "outputs": [
    {
     "data": {
      "text/markdown": [
       "There's no single \"best\" method of boiling water, as the ideal choice depends on your priorities: speed, energy efficiency, convenience, volume, and available equipment.\n",
       "\n",
       "However, for most everyday home use, **electric kettles and induction stovetops** are generally considered the top contenders for speed and efficiency.\n",
       "\n",
       "Here's a breakdown of common methods, their pros, cons, and when they're \"best\":\n",
       "\n",
       "---\n",
       "\n",
       "### Top Contenders for Speed & Efficiency in the Home:\n",
       "\n",
       "1.  **Electric Kettle**\n",
       "    *   **Pros:**\n",
       "        *   **Extremely Fast:** Especially for small to medium volumes (1-2 liters).\n",
       "        *   **Highly Energy-Efficient:** Dedicated heating element directly heats the water with minimal heat loss to the surroundings. Auto shut-off prevents over-boiling.\n",
       "        *   **Convenient:** Portable (within reach of an outlet), easy to fill and pour, no stovetop required.\n",
       "        *   **Safe:** Many have auto-shutoff and boil-dry protection.\n",
       "    *   **Cons:**\n",
       "        *   Appliance cost.\n",
       "        *   Takes up counter space.\n",
       "        *   Can't be used during a power outage.\n",
       "    *   **Best for:** Daily use for tea, coffee, instant noodles, or pre-heating water for cooking pasta/rice.\n",
       "\n",
       "2.  **Induction Stovetop with Compatible Pot**\n",
       "    *   **Pros:**\n",
       "        *   **Very Fast:** Rivals or even surpasses electric kettles for larger volumes, as heat is generated directly in the pot.\n",
       "        *   **Highly Energy-Efficient:** Minimal heat loss compared to gas or electric coil stovetops.\n",
       "        *   **Precise Control:** Instant heat adjustments.\n",
       "        *   **Safe:** The cooktop surface itself doesn't get hot (only residual heat from the pot).\n",
       "    *   **Cons:**\n",
       "        *   Requires induction-compatible cookware (magnetic bottom).\n",
       "        *   Higher upfront cost for the stovetop itself.\n",
       "    *   **Best for:** Boiling larger volumes of water for cooking (pasta, blanching vegetables), serious home cooks focused on efficiency and speed.\n",
       "\n",
       "---\n",
       "\n",
       "### Other Common Methods:\n",
       "\n",
       "3.  **Gas Stovetop**\n",
       "    *   **Pros:**\n",
       "        *   **Fast (Good):** Quicker than electric coil stovetops.\n",
       "        *   **Good Control:** Instant heat adjustment.\n",
       "        *   **Works during power outages.**\n",
       "        *   Common in most homes.\n",
       "    *   **Cons:**\n",
       "        *   **Less Efficient:** Significant heat loss to the surrounding air, heating up your kitchen.\n",
       "        *   Open flame safety concerns.\n",
       "    *   **Best for:** General cooking, larger volumes, when you need instant heat control without induction.\n",
       "\n",
       "4.  **Electric Coil / Ceramic Stovetop**\n",
       "    *   **Pros:**\n",
       "        *   Common and accessible.\n",
       "        *   Works with any pot.\n",
       "    *   **Cons:**\n",
       "        *   **Slowest:** Takes time for the element to heat up, then transfer that heat to the pot.\n",
       "        *   **Least Energy-Efficient:** Significant radiant heat loss.\n",
       "        *   Can heat up the kitchen.\n",
       "    *   **Best for:** General kitchen use if other options aren't available, when speed and efficiency aren't primary concerns.\n",
       "\n",
       "5.  **Microwave**\n",
       "    *   **Pros:**\n",
       "        *   **Convenient for Small Volumes:** Good for a single cup of water quickly.\n",
       "        *   No extra appliance needed if you already have a microwave.\n",
       "    *   **Cons:**\n",
       "        *   **Not a \"True\" Boil:** Doesn't typically produce a rolling boil, which is important for some applications (e.g., proper tea steeping).\n",
       "        *   **Safety Risk (Superheating):** Water can become superheated (above boiling point without bubbling) and erupt when disturbed, causing burns. Always put a non-metallic stirrer (like a wooden spoon) in the cup to provide nucleation sites for bubbles.\n",
       "        *   Less efficient for larger volumes.\n",
       "    *   **Best for:** Very small, single servings, like a quick cup of tea or instant coffee, with caution.\n",
       "\n",
       "---\n",
       "\n",
       "### Niche & Special Cases:\n",
       "\n",
       "6.  **Immersion Heater (Travel Kettle)**\n",
       "    *   **Pros:** Highly portable, compact, good for travel.\n",
       "    *   **Cons:** Safety concerns if not used correctly (don't leave unattended, risk of electric shock/fire if not fully submerged or if water boils dry). Requires a suitable container.\n",
       "    *   **Best for:** Travel, camping, dorm rooms (where allowed).\n",
       "\n",
       "7.  **Open Fire / Camping Stove**\n",
       "    *   **Pros:** Off-grid, survival, camping.\n",
       "    *   **Cons:** Less controlled heat, smoke, fuel requirements, safety risks (open flame).\n",
       "    *   **Best for:** Camping, emergencies, off-grid situations.\n",
       "\n",
       "8.  **Instant Hot Water Dispenser**\n",
       "    *   **Pros:** Instant hot (not always boiling) water on demand, no waiting.\n",
       "    *   **Cons:** Often only provides near-boiling water (not a true rolling boil), higher upfront cost for installation, uses energy to maintain temperature constantly.\n",
       "    *   **Best for:** Quick hot drinks or small amounts of hot water, convenience over a true boil.\n",
       "\n",
       "---\n",
       "\n",
       "### General Tips for Faster & More Efficient Boiling (Regardless of Method):\n",
       "\n",
       "*   **Use a Lid:** This is the single most important tip! A lid traps heat and steam, significantly reducing boiling time and energy consumption.\n",
       "*   **Only Boil What You Need:** Don't fill a 2-liter kettle for a single cup of tea.\n",
       "*   **Start with Hot Tap Water (if safe):** If your tap water is potable and you're in a hurry, using hot tap water can shave off a minute or two. Be aware that hot water pipes can sometimes leach more contaminants, so this isn't recommended for drinking water in all areas.\n",
       "*   **Keep Kettles/Pots Clean:** Limescale buildup inside a kettle or pot can act as an insulator, making it less efficient. Descale regularly.\n",
       "\n",
       "---\n",
       "\n",
       "**Conclusion:**\n",
       "\n",
       "For most people, the **electric kettle** offers the best balance of speed, efficiency, and convenience for everyday needs. If you're frequently boiling large volumes for cooking, an **induction stovetop** is incredibly effective and efficient."
      ],
      "text/plain": [
       "<IPython.core.display.Markdown object>"
      ]
     },
     "metadata": {},
     "output_type": "display_data"
    }
   ],
   "source": [
    "prompt = \"What's the best method of boiling water?\"\n",
    "\n",
    "response = client.models.generate_content(model=MODEL_ID, contents=prompt)\n",
    "display(Markdown(response.text))"
   ]
  },
  {
   "cell_type": "code",
   "execution_count": 42,
   "metadata": {
    "id": "KwUzhud4aA89",
    "tags": []
   },
   "outputs": [
    {
     "data": {
      "text/markdown": [
       "The sky appears blue because of a phenomenon called **Rayleigh scattering**. Here's a breakdown:\n",
       "\n",
       "1.  **Sunlight is White Light (All Colors):** Sunlight, which appears white to us, is actually made up of all the colors of the rainbow (red, orange, yellow, green, blue, indigo, violet). Each of these colors has a different **wavelength** – blue and violet light have shorter, smaller wavelengths, while red and orange light have longer, larger wavelengths.\n",
       "\n",
       "2.  **Earth's Atmosphere:** Our atmosphere is a mixture of gases, primarily nitrogen (about 78%) and oxygen (about 21%), along with other trace gases and tiny particles.\n",
       "\n",
       "3.  **Rayleigh Scattering:**\n",
       "    *   When sunlight enters the atmosphere, it collides with these tiny gas molecules (which are much smaller than the wavelengths of visible light).\n",
       "    *   Instead of just passing straight through, the light gets **scattered** (deflected) in all directions.\n",
       "    *   The crucial part of Rayleigh scattering is that **shorter wavelengths of light (like blue and violet) are scattered much more efficiently** than longer wavelengths (like red and orange). Blue light is scattered about four times more effectively than red light.\n",
       "\n",
       "4.  **Why We See Blue:**\n",
       "    *   Because blue light is scattered so much more than other colors, it appears to come from all directions in the sky.\n",
       "    *   When you look up at the sky, your eyes perceive this scattered blue light, making the sky appear blue.\n",
       "\n",
       "5.  **Why Not Violet?**\n",
       "    *   Violet light actually has an even shorter wavelength than blue and is scattered slightly *more* efficiently.\n",
       "    *   However, our eyes are less sensitive to violet light than to blue light. Also, some violet light gets absorbed in the upper atmosphere, and the sun's spectrum emits slightly less violet light than blue. So, while violet is scattered, blue dominates our perception.\n",
       "\n",
       "**What Happens to Other Colors?**\n",
       "The longer wavelengths (red, orange, yellow) are not scattered as much, so they tend to pass more directly through the atmosphere. This is why the sun itself often appears yellowish-white when high in the sky (because some blue has been scattered away, leaving more of the other colors).\n",
       "\n",
       "**Bonus: Why Sunsets and Sunrises are Red/Orange**\n",
       "At sunrise or sunset, sunlight has to travel through **much more** of the atmosphere to reach our eyes. By the time the light reaches us, almost all the blue and violet light has been scattered *away* from our line of sight. This leaves primarily the longer wavelengths – reds, oranges, and yellows – to come directly to our eyes, creating those beautiful sunset colors."
      ],
      "text/plain": [
       "<IPython.core.display.Markdown object>"
      ]
     },
     "metadata": {},
     "output_type": "display_data"
    }
   ],
   "source": [
    "prompt = \"Why is the sky blue?\"\n",
    "\n",
    "response = client.models.generate_content(model=MODEL_ID, contents=prompt)\n",
    "display(Markdown(response.text))"
   ]
  },
  {
   "cell_type": "markdown",
   "metadata": {
    "id": "PJIL2RTQaGcT"
   },
   "source": [
    "### Watch out for hallucinations"
   ]
  },
  {
   "cell_type": "markdown",
   "metadata": {
    "id": "8Y8kYxrSaHE9"
   },
   "source": [
    "Although LLMs have been trained on a large amount of data, they can generate text containing statements not grounded in truth or reality; these responses from the LLM are often referred to as \"hallucinations\" due to their limited memorization capabilities. Note that simply prompting the LLM to provide a citation isn't a fix to this problem, as there are instances of LLMs providing false or inaccurate citations. Dealing with hallucinations is a fundamental challenge of LLMs and an ongoing research area, so it is important to be cognizant that LLMs may seem to give you confident, correct-sounding statements that are in fact incorrect.\n",
    "\n",
    "Note that if you intend to use LLMs for the creative use cases, hallucinating could actually be quite useful."
   ]
  },
  {
   "cell_type": "markdown",
   "metadata": {
    "id": "8NY5nAGeaJYS"
   },
   "source": [
    "Try the prompt like the one below repeatedly. We set the temperature to `1.0` so that it takes more risks in its choices. It's possible that it may provide an inaccurate, but confident answer."
   ]
  },
  {
   "cell_type": "code",
   "execution_count": 43,
   "metadata": {
    "id": "QALPjEILaM62",
    "tags": []
   },
   "outputs": [
    {
     "data": {
      "text/markdown": [
       "Today is **Wednesday, May 22, 2024**."
      ],
      "text/plain": [
       "<IPython.core.display.Markdown object>"
      ]
     },
     "metadata": {},
     "output_type": "display_data"
    }
   ],
   "source": [
    "generation_config = GenerateContentConfig(temperature=1.0)\n",
    "\n",
    "prompt = \"What day is it today?\"\n",
    "\n",
    "response = client.models.generate_content(model=MODEL_ID, contents=prompt)\n",
    "display(Markdown(response.text))"
   ]
  },
  {
   "cell_type": "markdown",
   "metadata": {
    "id": "BRkwzbgRbhKt"
   },
   "source": [
    "Since LLMs do not have access to real-time information without further integrations, you may have noticed it hallucinates what day it is today in some of the outputs."
   ]
  },
  {
   "cell_type": "markdown",
   "metadata": {
    "id": "3c811e310d02"
   },
   "source": [
    "### Using system instructions to guardrail the model from irrelevant responses\n",
    "\n",
    "How can we attempt to reduce the chances of irrelevant responses and hallucinations?\n",
    "\n",
    "One way is to provide the LLM with [system instructions](https://cloud.google.com/vertex-ai/generative-ai/docs/learn/prompts/system-instruction-introduction).\n",
    "\n",
    "Let's see how system instructions works and how you can use them to reduce hallucinations or irrelevant questions for a travel chatbot.\n",
    "\n",
    "Suppose we ask a simple question about one of Italy's most famous tourist spots."
   ]
  },
  {
   "cell_type": "code",
   "execution_count": 44,
   "metadata": {
    "id": "rB6zJU76biFK",
    "tags": []
   },
   "outputs": [
    {
     "data": {
      "text/markdown": [
       "For sightseeing in Milan, Italy, the **Duomo di Milano** (Milan Cathedral) is widely considered the absolute best place to visit. It's an iconic landmark, a stunning example of Gothic architecture, and offers incredible views from its rooftop.\n",
       "\n",
       "Many travelers spend hours exploring its interior and the panoramic terraces."
      ],
      "text/plain": [
       "<IPython.core.display.Markdown object>"
      ]
     },
     "metadata": {},
     "output_type": "display_data"
    }
   ],
   "source": [
    "generation_config = GenerateContentConfig(temperature=1.0)\n",
    "\n",
    "chat = client.chats.create(\n",
    "    model=MODEL_ID,\n",
    "    config=GenerateContentConfig(\n",
    "        system_instruction=[\n",
    "            \"Hello! You are an AI chatbot for a travel web site.\",\n",
    "            \"Your mission is to provide helpful queries for travelers.\",\n",
    "            \"Remember that before you answer a question, you must check to see if it complies with your mission.\",\n",
    "            \"If not, you can say, Sorry I can't answer that question.\",\n",
    "        ]\n",
    "    ),\n",
    ")\n",
    "\n",
    "prompt = \"What is the best place for sightseeing in Milan, Italy?\"\n",
    "\n",
    "response = chat.send_message(prompt)\n",
    "display(Markdown(response.text))"
   ]
  },
  {
   "cell_type": "markdown",
   "metadata": {
    "id": "WZa-Qcf9cF4A"
   },
   "source": [
    "Now let us pretend to be a user asks the chatbot a question that is unrelated to travel."
   ]
  },
  {
   "cell_type": "code",
   "execution_count": 45,
   "metadata": {
    "id": "AZKBIDr2cGnu",
    "tags": []
   },
   "outputs": [
    {
     "data": {
      "text/markdown": [
       "Sorry, I can't answer that question."
      ],
      "text/plain": [
       "<IPython.core.display.Markdown object>"
      ]
     },
     "metadata": {},
     "output_type": "display_data"
    }
   ],
   "source": [
    "prompt = \"How do I make pizza dough at home?\"\n",
    "\n",
    "response = chat.send_message(prompt)\n",
    "display(Markdown(response.text))"
   ]
  },
  {
   "cell_type": "markdown",
   "metadata": {
    "id": "JiUYIhwpctCy"
   },
   "source": [
    "You can see that this way, a guardrail in the prompt prevented the chatbot from veering off course."
   ]
  },
  {
   "cell_type": "markdown",
   "metadata": {
    "id": "ZuuDhA37cvmP"
   },
   "source": [
    "### Turn generative tasks into classification tasks to reduce output variability"
   ]
  },
  {
   "cell_type": "markdown",
   "metadata": {
    "id": "kUCUrsUzczmb"
   },
   "source": [
    "#### Generative tasks lead to higher output variability"
   ]
  },
  {
   "cell_type": "markdown",
   "metadata": {
    "id": "a1xASHAkc46n"
   },
   "source": [
    "The prompt below results in an open-ended response, useful for brainstorming, but response is highly variable."
   ]
  },
  {
   "cell_type": "code",
   "execution_count": 46,
   "metadata": {
    "id": "nPfXQWIacwRf",
    "tags": []
   },
   "outputs": [
    {
     "data": {
      "text/markdown": [
       "That's awesome! Focusing on practical application is one of the best ways to improve your programming skills. Here are a few recommendations, ranging in complexity and focus, along with why they're great and how to get started:\n",
       "\n",
       "---\n",
       "\n",
       "### **Recommendation 1: Build a Mini-Project from Scratch**\n",
       "\n",
       "This is arguably the most impactful way to learn, as it covers the entire software development lifecycle (even for small projects).\n",
       "\n",
       "**Why it's Great:**\n",
       "*   **Problem Solving:** You define the problem and figure out how to solve it.\n",
       "*   **Project Management:** You break down a large task into smaller, manageable chunks.\n",
       "*   **Independent Learning:** You'll constantly encounter things you don't know and have to research (Google, Stack Overflow, documentation). This is a *crucial* skill.\n",
       "*   **Debugging:** You'll spend a lot of time fixing errors, which hones your debugging instincts.\n",
       "*   **Tangible Result:** You'll have something functional to show for your efforts!\n",
       "\n",
       "**Project Ideas (start simple!):**\n",
       "\n",
       "1.  **Command-Line Tools:**\n",
       "    *   **To-Do List Manager:** Add tasks, mark as complete, view all tasks, delete tasks. (Can store data in a simple text file or CSV).\n",
       "    *   **Calculator:** Basic arithmetic, then add scientific functions.\n",
       "    *   **Unit Converter:** Convert between different units (e.g., Celsius to Fahrenheit, meters to feet).\n",
       "    *   **Password Generator:** Generate strong, random passwords.\n",
       "    *   **Simple Text-Based Game:** Tic-Tac-Toe, Hangman, Rock-Paper-Scissors, or a very basic text adventure.\n",
       "\n",
       "2.  **Simple Web Pages/Apps (if you know HTML/CSS/JavaScript):**\n",
       "    *   **Personal Portfolio/Resume Page:** Showcase your projects and skills.\n",
       "    *   **Interactive Quiz App:** Ask questions and check answers.\n",
       "    *   **Basic Weather App:** Use a free weather API (like OpenWeatherMap) to fetch and display current weather for a city.\n",
       "    *   **\"To-Do List\" (Web Version):** Similar to the command-line version but in a browser.\n",
       "\n",
       "**How to Get Started:**\n",
       "*   **Choose a Language:** Python is excellent for beginners due to its readability and versatility. JavaScript is great if you want to dive into web development.\n",
       "*   **Pick ONE Project Idea:** Don't try to build Instagram on day one. Start extremely small.\n",
       "*   **Break It Down:** Instead of \"build a To-Do List,\" think:\n",
       "    1.  \"How do I display a menu?\"\n",
       "    2.  \"How do I add a task?\"\n",
       "    3.  \"How do I save tasks?\"\n",
       "    4.  \"How do I load tasks?\"\n",
       "*   **Start Coding:** Get a very basic version working first, then add features incrementally.\n",
       "\n",
       "---\n",
       "\n",
       "### **Recommendation 2: Competitive Programming & Coding Challenges**\n",
       "\n",
       "This focuses on improving your algorithmic thinking, problem-solving speed, and understanding of data structures.\n",
       "\n",
       "**Why it's Great:**\n",
       "*   **Algorithmic Thinking:** You learn how to approach problems with efficiency in mind.\n",
       "*   **Data Structures:** You get hands-on experience with arrays, lists, maps, etc., and learn when to use which.\n",
       "*   **Edge Cases:** Challenges often require you to think about tricky inputs.\n",
       "*   **Practice, Practice, Practice:** The more you solve, the better you get at recognizing patterns.\n",
       "\n",
       "**Platforms:**\n",
       "*   **LeetCode (Easy/Medium problems):** Excellent for interview prep, but also great for general skill building. Start with \"Easy\" problems.\n",
       "*   **HackerRank:** Similar to LeetCode, with various domains.\n",
       "*   **Codecademy/freeCodeCamp:** Have interactive coding challenges within their lessons.\n",
       "*   **Advent of Code (seasonal - December):** A fun, daily coding challenge series. Great community and problem variety.\n",
       "*   **Project Euler:** Focuses more on mathematical/computational problems.\n",
       "\n",
       "**How to Get Started:**\n",
       "*   **Choose a Platform:** LeetCode or HackerRank are popular choices.\n",
       "*   **Start with \"Easy\" Problems:** Don't get discouraged if you can't solve them immediately. It's a learning process.\n",
       "*   **Understand the Solution:** If you get stuck, look at the solution *after* trying for a significant amount of time (e.g., 30-60 mins). Then, try to implement it yourself *without looking*.\n",
       "*   **Don't Just Pass Tests:** Understand *why* your solution works (or doesn't). Think about efficiency.\n",
       "\n",
       "---\n",
       "\n",
       "### **Recommendation 3: Contribute to Open Source (Small Scale)**\n",
       "\n",
       "This might sound intimidating, but it's possible to start small and learn immensely.\n",
       "\n",
       "**Why it's Great:**\n",
       "*   **Reading Other People's Code:** A crucial skill for working in teams.\n",
       "*   **Version Control (Git/GitHub):** You'll get hands-on experience with branching, committing, pull requests – essential for modern software development.\n",
       "*   **Collaboration:** You learn how to work with others on a codebase.\n",
       "*   **Real-World Software:** You contribute to actual projects used by people.\n",
       "\n",
       "**How to Get Started (for a high school student):**\n",
       "*   **Look for \"Good First Issues\" or \"Help Wanted\":** Many projects on GitHub tag beginner-friendly tasks. Go to GitHub, search for a language you know (e.g., `is:issue is:open label:\"good first issue\" language:python`).\n",
       "*   **Documentation Improvements:** Often, the easiest way to start is by fixing typos, improving clarity, or adding examples to a project's documentation.\n",
       "*   **Small Bug Fixes:** Look for simple bugs that don't require deep understanding of the entire codebase.\n",
       "*   **Don't Be Afraid to Ask:** Maintainers are generally happy to guide new contributors.\n",
       "\n",
       "---\n",
       "\n",
       "### **Key Principles for Success (No Matter What You Choose):**\n",
       "\n",
       "1.  **Start Small:** Seriously, this is the most important advice. Don't aim for perfection; aim for something working, then build on it.\n",
       "2.  **Google is Your Best Friend:** You will get stuck. A lot. Learning how to effectively search for solutions is a superpower.\n",
       "3.  **Use Version Control (Git & GitHub):** Even for your personal projects. It's essential for tracking changes, experimenting safely, and showcasing your work.\n",
       "4.  **Break Down Problems:** If a task feels too big, break it into smaller, more manageable steps.\n",
       "5.  **Debug Systematically:** Don't just randomly change code. Use `print()` statements, or learn to use a debugger. Understand *why* your code isn't doing what you expect.\n",
       "6.  **Read Documentation:** Learn to read the official documentation for libraries and languages you use. It's often the most accurate and comprehensive resource.\n",
       "7.  **Find a Community:** Join online forums (e.g., Reddit's r/learnprogramming), Discord servers, or local coding clubs. Asking questions and seeing how others solve problems is incredibly helpful.\n",
       "8.  **Don't Get Discouraged:** Programming can be frustrating. Everyone hits roadblocks. Persistence is key. Celebrate small victories!\n",
       "9.  **Have Fun!** Choose something that genuinely interests you. Motivation is a huge factor in learning.\n",
       "\n",
       "Good luck, and happy coding!"
      ],
      "text/plain": [
       "<IPython.core.display.Markdown object>"
      ]
     },
     "metadata": {},
     "output_type": "display_data"
    }
   ],
   "source": [
    "prompt = \"I'm a high school student. Recommend me a programming activity to improve my skills.\"\n",
    "\n",
    "response = client.models.generate_content(model=MODEL_ID, contents=prompt)\n",
    "display(Markdown(response.text))"
   ]
  },
  {
   "cell_type": "markdown",
   "metadata": {
    "id": "iAmm9wPYc_1o"
   },
   "source": [
    "#### Classification tasks reduces output variability"
   ]
  },
  {
   "cell_type": "markdown",
   "metadata": {
    "id": "VvRpK_0GdCpf"
   },
   "source": [
    "The prompt below results in a choice and may be useful if you want the output to be easier to control."
   ]
  },
  {
   "cell_type": "code",
   "execution_count": 47,
   "metadata": {
    "id": "kYDKh0r2dAqo",
    "tags": []
   },
   "outputs": [
    {
     "data": {
      "text/markdown": [
       "As a high school student, you're in a fantastic position to start learning programming! It's a skill that will benefit you immensely, no matter what career path you choose.\n",
       "\n",
       "Here's my suggestion, ranked from most recommended to least, along with the \"why\":\n",
       "\n",
       "---\n",
       "\n",
       "### **1. Highly Recommended: a) learn Python**\n",
       "\n",
       "**Why Python?**\n",
       "\n",
       "*   **Beginner-Friendly:** Python has a very clean, readable syntax that closely resembles plain English. This makes it much easier to pick up core programming concepts (variables, loops, functions, etc.) without getting bogged down by complicated syntax rules.\n",
       "*   **Extremely Versatile:** This is Python's superpower. You can use it for:\n",
       "    *   **Web Development (Backend):** Frameworks like Django and Flask power many popular websites.\n",
       "    *   **Data Science & Machine Learning/AI:** This is a huge field, and Python (with libraries like NumPy, Pandas, scikit-learn, TensorFlow, PyTorch) is the industry standard.\n",
       "    *   **Automation & Scripting:** Automate repetitive tasks on your computer (e.g., organizing files, sending emails).\n",
       "    *   **Game Development:** Simple games with libraries like Pygame.\n",
       "    *   **Scientific Computing:** Used in research across many disciplines.\n",
       "    *   **Desktop Applications:** While not its primary strength, it can be done.\n",
       "*   **Massive Community & Resources:** Because it's so popular, there's an enormous amount of free tutorials, courses, documentation, and communities online. If you get stuck, someone has likely had the same problem and found a solution.\n",
       "*   **High Demand:** Python skills are highly sought after in the job market across a wide range of industries.\n",
       "*   **Quick Results:** You can write small, useful scripts or see data visualizations quickly, which is very motivating.\n",
       "\n",
       "**In short: Python is arguably the best first language for anyone, especially a high school student, due to its ease of learning and incredible breadth of applications.**\n",
       "\n",
       "---\n",
       "\n",
       "### **2. Also Excellent, Especially for Web: b) learn JavaScript**\n",
       "\n",
       "**Why JavaScript?**\n",
       "\n",
       "*   **The Language of the Web:** If you're interested in building interactive websites, JavaScript is non-negotiable. It runs directly in every web browser.\n",
       "*   **Frontend Development:** You can make dynamic and interactive elements on websites (animations, forms, interactive maps, etc.). This is very visual and satisfying.\n",
       "*   **Full-Stack Potential (Node.js):** With Node.js, you can use JavaScript to build the backend of web applications as well, allowing you to be a \"full-stack\" developer (handling both the visible part of the website and the server logic).\n",
       "*   **Mobile & Desktop Apps:** Frameworks like React Native (for mobile) and Electron (for desktop) allow you to build native-like applications using JavaScript.\n",
       "*   **Large Ecosystem & Community:** Similar to Python, JavaScript has a huge and active community, with countless libraries and frameworks (React, Angular, Vue, etc.).\n",
       "*   **Immediate Visual Feedback:** Building a simple website and seeing your code change what's on screen can be incredibly motivating.\n",
       "\n",
       "**When to choose JavaScript over Python first?** If your primary interest is building interactive websites and web applications, and seeing immediate visual results, JavaScript might be a slightly more direct path.\n",
       "\n",
       "**Can you learn both?** Absolutely! Many developers know both, using JavaScript for the frontend and Python for the backend or data analysis.\n",
       "\n",
       "---\n",
       "\n",
       "### **3. Niche, Less Recommended for a First Language: c) learn Fortran**\n",
       "\n",
       "**Why Fortran (and why probably not as your first language):**\n",
       "\n",
       "*   **Specialized Niche:** Fortran (short for FORmula TRANslation) is primarily used in **high-performance computing (HPC)**, scientific simulations, numerical analysis, and engineering applications. Think weather forecasting, aerospace simulations, computational physics, and complex mathematical modeling.\n",
       "*   **Extreme Speed for Numerical Tasks:** It excels at crunching numbers very, very quickly. Many legacy scientific codes are written in Fortran.\n",
       "*   **Less Versatile for General Purpose:** Unlike Python or JavaScript, Fortran is not typically used for web development, mobile apps, general scripting, or most modern software development jobs outside of its specific niche.\n",
       "*   **Steeper Learning Curve (for beginners):** While modern Fortran has improved, its syntax and common practices can feel less intuitive or \"modern\" compared to Python. You're less likely to find simple, fun projects to build quickly.\n",
       "*   **Smaller Community for New Learners:** While its community is active within its niche, it's not as broad or welcoming to absolute beginners as Python or JavaScript.\n",
       "\n",
       "**When would you learn Fortran?** You would learn Fortran if you specifically pursue a university degree or career in fields that rely heavily on computational science, physics, meteorology, or certain areas of engineering where legacy codebases or extreme numerical performance are critical. It's often taught later in specialized university programs.\n",
       "\n",
       "---\n",
       "\n",
       "### **My Strongest Recommendation for a High School Student:**\n",
       "\n",
       "**Start with Python.**\n",
       "\n",
       "It will teach you core programming principles in an accessible way, open doors to an incredible array of interesting projects (AI, data, web backend, automation), and set you up for success regardless of your future academic or career choices. Once you're comfortable with Python, you can easily pick up JavaScript if you want to dive into web frontend development, or any other language for that matter.\n",
       "\n",
       "**How to Start:**\n",
       "\n",
       "*   **Online Tutorials:** Codecademy, freeCodeCamp, Udemy (look for free intro courses or highly-rated paid ones during sales), Coursera, edX.\n",
       "*   **YouTube:** Search for \"Python for beginners\" – there are many excellent channels.\n",
       "*   **Official Python Docs:** Once you get the basics, the official documentation is a great resource.\n",
       "*   **Practice, Practice, Practice:** The best way to learn is by doing. Try to build small projects that interest you!\n",
       "\n",
       "Good luck, and have fun on your coding journey!"
      ],
      "text/plain": [
       "<IPython.core.display.Markdown object>"
      ]
     },
     "metadata": {},
     "output_type": "display_data"
    }
   ],
   "source": [
    "prompt = \"\"\"I'm a high school student. Which of these activities do you suggest and why:\n",
    "a) learn Python\n",
    "b) learn JavaScript\n",
    "c) learn Fortran\n",
    "\"\"\"\n",
    "\n",
    "response = client.models.generate_content(model=MODEL_ID, contents=prompt)\n",
    "display(Markdown(response.text))"
   ]
  },
  {
   "cell_type": "markdown",
   "metadata": {
    "id": "iTd60b1GdIsx"
   },
   "source": [
    "### Improve response quality by including examples"
   ]
  },
  {
   "cell_type": "markdown",
   "metadata": {
    "id": "yJi44NejdJYE"
   },
   "source": [
    "Another way to improve response quality is to add examples in your prompt. The LLM learns in-context from the examples on how to respond. Typically, one to five examples (shots) are enough to improve the quality of responses. Including too many examples can cause the model to over-fit the data and reduce the quality of responses.\n",
    "\n",
    "Similar to classical model training, the quality and distribution of the examples is very important. Pick examples that are representative of the scenarios that you need the model to learn, and keep the distribution of the examples (e.g. number of examples per class in the case of classification) aligned with your actual distribution."
   ]
  },
  {
   "cell_type": "markdown",
   "metadata": {
    "id": "sMbLginWdOKs"
   },
   "source": [
    "#### Zero-shot prompt"
   ]
  },
  {
   "cell_type": "markdown",
   "metadata": {
    "id": "Crh2Loi2dQ0v"
   },
   "source": [
    "Below is an example of zero-shot prompting, where you don't provide any examples to the LLM within the prompt itself."
   ]
  },
  {
   "cell_type": "code",
   "execution_count": 48,
   "metadata": {
    "id": "-7myRc-SdTQ4",
    "tags": []
   },
   "outputs": [
    {
     "data": {
      "text/markdown": [
       "Sentiment: Positive"
      ],
      "text/plain": [
       "<IPython.core.display.Markdown object>"
      ]
     },
     "metadata": {},
     "output_type": "display_data"
    }
   ],
   "source": [
    "prompt = \"\"\"Decide whether a Tweet's sentiment is positive, neutral, or negative.\n",
    "\n",
    "Tweet: I loved the new YouTube video you made!\n",
    "Sentiment:\n",
    "\"\"\"\n",
    "\n",
    "response = client.models.generate_content(model=MODEL_ID, contents=prompt)\n",
    "display(Markdown(response.text))"
   ]
  },
  {
   "cell_type": "markdown",
   "metadata": {
    "id": "ucRtPn9SdL64"
   },
   "source": [
    "#### One-shot prompt"
   ]
  },
  {
   "cell_type": "markdown",
   "metadata": {
    "id": "rs0gQH2vdYBi"
   },
   "source": [
    "Below is an example of one-shot prompting, where you provide one example to the LLM within the prompt to give some guidance on what type of response you want."
   ]
  },
  {
   "cell_type": "code",
   "execution_count": 49,
   "metadata": {
    "id": "iEq-KxGYdaT5",
    "tags": []
   },
   "outputs": [
    {
     "data": {
      "text/markdown": [
       "negative"
      ],
      "text/plain": [
       "<IPython.core.display.Markdown object>"
      ]
     },
     "metadata": {},
     "output_type": "display_data"
    }
   ],
   "source": [
    "prompt = \"\"\"Decide whether a Tweet's sentiment is positive, neutral, or negative.\n",
    "\n",
    "Tweet: I loved the new YouTube video you made!\n",
    "Sentiment: positive\n",
    "\n",
    "Tweet: That was awful. Super boring 😠\n",
    "Sentiment:\n",
    "\"\"\"\n",
    "\n",
    "response = client.models.generate_content(model=MODEL_ID, contents=prompt)\n",
    "display(Markdown(response.text))"
   ]
  },
  {
   "cell_type": "markdown",
   "metadata": {
    "id": "JnKLjJzmdfL_"
   },
   "source": [
    "#### Few-shot prompt"
   ]
  },
  {
   "cell_type": "markdown",
   "metadata": {
    "id": "6Zv-9F5OdgI_"
   },
   "source": [
    "Below is an example of few-shot prompting, where you provide a few examples to the LLM within the prompt to give some guidance on what type of response you want."
   ]
  },
  {
   "cell_type": "code",
   "execution_count": 50,
   "metadata": {
    "id": "u37P9tG4dk9S",
    "tags": []
   },
   "outputs": [
    {
     "data": {
      "text/markdown": [
       "positive"
      ],
      "text/plain": [
       "<IPython.core.display.Markdown object>"
      ]
     },
     "metadata": {},
     "output_type": "display_data"
    }
   ],
   "source": [
    "prompt = \"\"\"Decide whether a Tweet's sentiment is positive, neutral, or negative.\n",
    "\n",
    "Tweet: I loved the new YouTube video you made!\n",
    "Sentiment: positive\n",
    "\n",
    "Tweet: That was awful. Super boring 😠\n",
    "Sentiment: negative\n",
    "\n",
    "Tweet: Something surprised me about this video - it was actually original. It was not the same old recycled stuff that I always see. Watch it - you will not regret it.\n",
    "Sentiment:\n",
    "\"\"\"\n",
    "\n",
    "response = client.models.generate_content(model=MODEL_ID, contents=prompt)\n",
    "display(Markdown(response.text))"
   ]
  },
  {
   "cell_type": "markdown",
   "metadata": {
    "id": "wDMD3xb2dvX6"
   },
   "source": [
    "#### Choosing between zero-shot, one-shot, few-shot prompting methods"
   ]
  },
  {
   "cell_type": "markdown",
   "metadata": {
    "id": "s92W0YpNdxJp"
   },
   "source": [
    "Which prompt technique to use will solely depends on your goal. The zero-shot prompts are more open-ended and can give you creative answers, while one-shot and few-shot prompts teach the model how to behave so you can get more predictable answers that are consistent with the examples provided."
   ]
  }
 ],
 "metadata": {
  "colab": {
   "name": "intro_prompt_design.ipynb",
   "toc_visible": true
  },
  "environment": {
   "kernel": "conda-base-py",
   "name": "workbench-notebooks.m131",
   "type": "gcloud",
   "uri": "us-docker.pkg.dev/deeplearning-platform-release/gcr.io/workbench-notebooks:m131"
  },
  "kernelspec": {
   "display_name": "Python 3 (ipykernel) (Local) (Local)",
   "language": "python",
   "name": "conda-base-py"
  },
  "language_info": {
   "codemirror_mode": {
    "name": "ipython",
    "version": 3
   },
   "file_extension": ".py",
   "mimetype": "text/x-python",
   "name": "python",
   "nbconvert_exporter": "python",
   "pygments_lexer": "ipython3",
   "version": "3.10.18"
  }
 },
 "nbformat": 4,
 "nbformat_minor": 4
}
